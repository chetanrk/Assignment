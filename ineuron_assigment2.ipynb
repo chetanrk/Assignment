{
 "cells": [
  {
   "cell_type": "markdown",
   "metadata": {},
   "source": [
    "# Task1"
   ]
  },
  {
   "cell_type": "markdown",
   "metadata": {},
   "source": [
    "**1. Write a Python Program to implement your own myreduce() function which works exactly like\n",
    "Python's built-in function reduce().**"
   ]
  },
  {
   "cell_type": "code",
   "execution_count": 1,
   "metadata": {},
   "outputs": [
    {
     "name": "stdout",
     "output_type": "stream",
     "text": [
      "24\n"
     ]
    }
   ],
   "source": [
    "def do_mul(x1, x2): \n",
    "    return x1 * x2\n",
    "\n",
    "def myreduce(func, seq):\n",
    "    first = seq[0]\n",
    "    for i in seq[1:]:\n",
    "        first = func(first, i)\n",
    "    return first\n",
    "\n",
    "print(myreduce(do_mul, [1, 2, 3, 4]))"
   ]
  },
  {
   "cell_type": "markdown",
   "metadata": {},
   "source": [
    "**2. Write a Python program to implement your own myfilter() function which works exactly like\n",
    "Python's built-in function filter().**"
   ]
  },
  {
   "cell_type": "code",
   "execution_count": 2,
   "metadata": {},
   "outputs": [
    {
     "name": "stdout",
     "output_type": "stream",
     "text": [
      "[2, 4, 6, 8, 10]\n"
     ]
    }
   ],
   "source": [
    "def my_filter(func,sequence):\n",
    "    res=[]\n",
    "    for variable in sequence :\n",
    "        if func(variable):\n",
    "            res.append(variable)\n",
    "    return res\n",
    "\n",
    "def is_even(item):\n",
    "    if item%2==0 :\n",
    "        return True\n",
    "    else :\n",
    "        return False\n",
    "\n",
    "seq=[1,2,3,4,5,6,7,8,9,10]\n",
    "print(my_filter(is_even,seq))"
   ]
  },
  {
   "cell_type": "markdown",
   "metadata": {},
   "source": [
    "3. Implement List comprehensions to produce the following lists.<br>\n",
    "Write List comprehensions to produce the following Lists<br>\n",
    "**['A', 'C', 'A', 'D', 'G', 'I', ’L’, ‘ D’]<br>\n",
    "['x', 'xx', 'xxx', 'xxxx', 'y', 'yy', 'yyy', 'yyyy', 'z', 'zz', 'zzz', 'zzzz']<br>\n",
    "['x', 'y', 'z', 'xx', 'yy', 'zz', 'xx', 'yy', 'zz', 'xxxx', 'yyyy', 'zzzz']<br> [[2], [3], [4], [3], [4], [5], [4], [5], [6]]<br>\n",
    "[[2, 3, 4, 5], [3, 4, 5, 6], [4, 5, 6, 7], [5, 6, 7, 8]]<br>\n",
    "[(1, 1), (2, 1), (3, 1), (1, 2), (2, 2), (3, 2), (1, 3), (2, 3), (3, 3)]**"
   ]
  },
  {
   "cell_type": "code",
   "execution_count": 3,
   "metadata": {},
   "outputs": [
    {
     "name": "stdout",
     "output_type": "stream",
     "text": [
      "['A', 'C', 'A', 'D', 'G', 'I', 'L', 'D']\n"
     ]
    }
   ],
   "source": [
    "list_comp=[alphabate for alphabate in 'ACADGILD']\n",
    "print(list_comp)"
   ]
  },
  {
   "cell_type": "code",
   "execution_count": 4,
   "metadata": {},
   "outputs": [
    {
     "name": "stdout",
     "output_type": "stream",
     "text": [
      "['x', 'xx', 'xxx', 'xxxx', 'y', 'yy', 'yyy', 'yyyy', 'z', 'zz', 'zzz', 'zzzz']\n"
     ]
    }
   ],
   "source": [
    "list_comp1=[item * num for item in 'xyz' for num in range(1,5)]\n",
    "print(list_comp1)"
   ]
  },
  {
   "cell_type": "code",
   "execution_count": 5,
   "metadata": {},
   "outputs": [
    {
     "name": "stdout",
     "output_type": "stream",
     "text": [
      "['x', 'y', 'z', 'xx', 'yy', 'zz', 'xxx', 'yyy', 'zzz', 'xxxx', 'yyyy', 'zzzz']\n"
     ]
    }
   ],
   "source": [
    "list_comp2=[item * num for num in range(1,5) for item in 'xyz']\n",
    "print(list_comp2)"
   ]
  },
  {
   "cell_type": "code",
   "execution_count": 6,
   "metadata": {},
   "outputs": [
    {
     "name": "stdout",
     "output_type": "stream",
     "text": [
      "[[2], [3], [4], [3], [4], [5], [4], [5], [6]]\n"
     ]
    }
   ],
   "source": [
    "list_comp3=[[item + num] for item in [2,3,4] for num in range(0,3)]\n",
    "print(list_comp3)"
   ]
  },
  {
   "cell_type": "code",
   "execution_count": 7,
   "metadata": {},
   "outputs": [
    {
     "name": "stdout",
     "output_type": "stream",
     "text": [
      "[[2, 3, 4, 5], [3, 4, 5, 6], [4, 5, 6, 7], [5, 6, 7, 8]]\n"
     ]
    }
   ],
   "source": [
    "list_comp4=[[item + num for item in [2,3,4,5]] for num in range(0,4)]\n",
    "print(list_comp4)"
   ]
  },
  {
   "cell_type": "code",
   "execution_count": 8,
   "metadata": {},
   "outputs": [
    {
     "name": "stdout",
     "output_type": "stream",
     "text": [
      "[(1, 1), (1, 2), (1, 3), (2, 1), (2, 2), (2, 3), (3, 1), (3, 2), (3, 3)]\n"
     ]
    }
   ],
   "source": [
    "list_comp5=[(item , num) for item in [1,2,3] for num in range(1,4)]\n",
    "print(list_comp5)"
   ]
  },
  {
   "cell_type": "markdown",
   "metadata": {},
   "source": [
    "**3.Implement a function longestWord() that takes a list of words and returns the longest one.**"
   ]
  },
  {
   "cell_type": "code",
   "execution_count": 9,
   "metadata": {},
   "outputs": [
    {
     "name": "stdout",
     "output_type": "stream",
     "text": [
      "assignment\n"
     ]
    }
   ],
   "source": [
    "def longestWord(words_list):\n",
    "    word_len = []\n",
    "    for n in words_list:\n",
    "        word_len.append((len(n), n))\n",
    "    word_len.sort()\n",
    "    return word_len[-1][1]\n",
    "\n",
    "print(longestWord([\"chetan\", \"kumbar\", \"ineuron\", \"assignment\"]))"
   ]
  },
  {
   "cell_type": "markdown",
   "metadata": {},
   "source": [
    "# Task2"
   ]
  },
  {
   "cell_type": "markdown",
   "metadata": {},
   "source": [
    "**1.**Write a Python Program(with class concepts) to find the area of the triangle using the below\n",
    "formula.<br>\n",
    "**area = (s*(s-a)*(s-b)*(s-c)) ** 0.5**<br>\n",
    "Function to take the length of the sides of triangle from user should be defined in the parent\n",
    "class and function to calculate the area should be defined in subclass."
   ]
  },
  {
   "cell_type": "code",
   "execution_count": 14,
   "metadata": {},
   "outputs": [
    {
     "name": "stdout",
     "output_type": "stream",
     "text": [
      "side 1: 3.5\n",
      "side 2: 6.7\n",
      "side 3: 8.9\n"
     ]
    },
    {
     "data": {
      "text/plain": [
       "10.345666665324186"
      ]
     },
     "execution_count": 14,
     "metadata": {},
     "output_type": "execute_result"
    }
   ],
   "source": [
    "class Triangle:\n",
    "    def __init__(self,a,b,c):\n",
    "        if a+b>c and b+c>a and a+c>b:\n",
    "            self.a=a\n",
    "            self.b=b\n",
    "            self.c=c\n",
    "        \n",
    "        else:\n",
    "            print(\"Not a valid triangle\")\n",
    "            \n",
    "        \n",
    "class Find_area(Triangle):\n",
    "    \n",
    "    def area(self):\n",
    "        s=(self.a+self.b+self.c)/2\n",
    "        return (s*(s-self.a)*(s-self.b)*(s-self.c))**0.5\n",
    "\n",
    "tr=Find_area(float(input(\"side 1: \")),float(input(\"side 2: \")),float(input(\"side 3: \")))\n",
    "tr.area()"
   ]
  },
  {
   "cell_type": "markdown",
   "metadata": {},
   "source": [
    "**2.Write a function filter_long_words() that takes a list of words and an integer n and returns the list\n",
    "of words that are longer than n.**"
   ]
  },
  {
   "cell_type": "code",
   "execution_count": 10,
   "metadata": {},
   "outputs": [
    {
     "name": "stdout",
     "output_type": "stream",
     "text": [
      "['wordThree', 'wordFour', 'wordFive']\n"
     ]
    }
   ],
   "source": [
    "def filter_long_words(inputList,inputInteger):\n",
    " \n",
    "    listOfWords = []\n",
    " \n",
    "    for i in range(len(inputList)):\n",
    "        if len(inputList[i]) > inputInteger:\n",
    "            listOfWords.append(inputList[i])\n",
    " \n",
    "    return listOfWords\n",
    " \n",
    "inputListOfWords = ['wordOne','wordTwo','wordThree','wordFour','wordFive']\n",
    "inputWordLength = 7\n",
    " \n",
    "print(str(filter_long_words(inputListOfWords,inputWordLength)))"
   ]
  },
  {
   "cell_type": "markdown",
   "metadata": {},
   "source": [
    "**3.Write a Python program using function concept that maps list of words into a list of integers\n",
    "representing the lengths of the corresponding words.**"
   ]
  },
  {
   "cell_type": "code",
   "execution_count": 11,
   "metadata": {},
   "outputs": [
    {
     "name": "stdout",
     "output_type": "stream",
     "text": [
      "The length of the word are: [4, 2, 1, 9, 3]\n"
     ]
    }
   ],
   "source": [
    "wordlist = [\"This\", \"is\", \"a\", \"beautiful\", \"day\"]\n",
    "\n",
    "def wordlength(wordlist):\n",
    "    return list(map(lambda x: len(x), wordlist))\n",
    "\n",
    "print(\"The length of the word are:\",wordlength(wordlist))"
   ]
  }
 ],
 "metadata": {
  "kernelspec": {
   "display_name": "Python 3",
   "language": "python",
   "name": "python3"
  },
  "language_info": {
   "codemirror_mode": {
    "name": "ipython",
    "version": 3
   },
   "file_extension": ".py",
   "mimetype": "text/x-python",
   "name": "python",
   "nbconvert_exporter": "python",
   "pygments_lexer": "ipython3",
   "version": "3.7.3"
  }
 },
 "nbformat": 4,
 "nbformat_minor": 2
}
